{
  "nbformat": 4,
  "nbformat_minor": 0,
  "metadata": {
    "colab": {
      "provenance": [],
      "authorship_tag": "ABX9TyNlGb0Lu1NaURFsqWyskLN0",
      "include_colab_link": true
    },
    "kernelspec": {
      "name": "python3",
      "display_name": "Python 3"
    },
    "language_info": {
      "name": "python"
    }
  },
  "cells": [
    {
      "cell_type": "markdown",
      "metadata": {
        "id": "view-in-github",
        "colab_type": "text"
      },
      "source": [
        "<a href=\"https://colab.research.google.com/github/phanee16/cutting-metal-surplus/blob/main/cutting_metal_surplus.ipynb\" target=\"_parent\"><img src=\"https://colab.research.google.com/assets/colab-badge.svg\" alt=\"Open In Colab\"/></a>"
      ]
    },
    {
      "cell_type": "code",
      "execution_count": null,
      "metadata": {
        "colab": {
          "base_uri": "https://localhost:8080/"
        },
        "id": "GdOw60IUcPIo",
        "outputId": "7f0f0d73-68a2-4021-85c1-6a65b2bd151d"
      },
      "outputs": [
        {
          "output_type": "stream",
          "name": "stdout",
          "text": [
            "2000\n",
            "1913\n"
          ]
        }
      ],
      "source": [
        "def maxProfit(costPerCut, salePrice, lengths):\n",
        "    profits = []\n",
        "    for sale_length in range(1, max(lengths) + 1):\n",
        "        sale_price_per_rod = salePrice * sale_length\n",
        "        profit = 0\n",
        "\n",
        "        for rod_length in lengths:\n",
        "            uniform_rods = rod_length // sale_length\n",
        "\n",
        "            if uniform_rods > 0:\n",
        "                extra_cut = 1 if rod_length % sale_length > 0 else 0\n",
        "                total_cuts = uniform_rods - 1 + extra_cut\n",
        "\n",
        "                costs = total_cuts * costPerCut\n",
        "                revenues = uniform_rods * sale_price_per_rod\n",
        "\n",
        "                if revenues > costs:\n",
        "                    profit += revenues - costs\n",
        "                    # print(\" profit is : \",profit)\n",
        "                    profits.append(profit)\n",
        "\n",
        "    return max(profits)\n",
        "\n",
        "\n",
        "\n",
        "costPerCut = 1000\n",
        "salePrice = 1\n",
        "lengths = [200, 200, 200, 400, 200, 200, 200, 200, 200, 200, 200]\n",
        "\n",
        "max_profit = maxProfit(costPerCut, salePrice, lengths)\n",
        "print(max_profit)\n",
        "\n",
        "costPerCut = 1\n",
        "salePrice = 10\n",
        "lengths = [30,59,110]\n",
        "\n",
        "max_profit = maxProfit(costPerCut, salePrice, lengths)\n",
        "print(max_profit)\n"
      ]
    }
  ]
}